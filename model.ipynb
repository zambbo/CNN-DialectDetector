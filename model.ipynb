{
  "nbformat": 4,
  "nbformat_minor": 0,
  "metadata": {
    "colab": {
      "name": "model.ipynb",
      "provenance": [],
      "collapsed_sections": [],
      "authorship_tag": "ABX9TyNc+94JoD2Rzbj6lzHvZgQa",
      "include_colab_link": true
    },
    "kernelspec": {
      "name": "python3",
      "display_name": "Python 3"
    },
    "language_info": {
      "name": "python"
    },
    "accelerator": "GPU"
  },
  "cells": [
    {
      "cell_type": "markdown",
      "metadata": {
        "id": "view-in-github",
        "colab_type": "text"
      },
      "source": [
        "<a href=\"https://colab.research.google.com/github/zambbo/CNN-DialectDetector/blob/master/model.ipynb\" target=\"_parent\"><img src=\"https://colab.research.google.com/assets/colab-badge.svg\" alt=\"Open In Colab\"/></a>"
      ]
    },
    {
      "cell_type": "code",
      "execution_count": 3,
      "metadata": {
        "colab": {
          "base_uri": "https://localhost:8080/"
        },
        "id": "msnE4Uhjy3Te",
        "outputId": "4b7df560-6983-4fc5-9bb5-6ea3017af4c9"
      },
      "outputs": [
        {
          "output_type": "stream",
          "name": "stdout",
          "text": [
            "Drive already mounted at /content/drive; to attempt to forcibly remount, call drive.mount(\"/content/drive\", force_remount=True).\n"
          ]
        }
      ],
      "source": [
        "from google.colab import drive\n",
        "drive.mount('/content/drive')"
      ]
    },
    {
      "cell_type": "code",
      "source": [
        "import torch\n",
        "import torch.nn as nn\n",
        "import torch.nn.functional as F\n",
        "import torch.optim as optim\n",
        "from torch.utils.data import Dataset, DataLoader\n",
        "from torch.utils.data.dataset import random_split\n",
        "import os\n",
        "import re\n",
        "from matplotlib import pyplot as plt\n",
        "from glob import glob\n",
        "import numpy as np\n",
        "import pickle\n",
        "from tqdm import tqdm\n",
        "import time\n",
        "from sklearn.preprocessing import MinMaxScaler"
      ],
      "metadata": {
        "id": "kBVhaUJJ2fef"
      },
      "execution_count": 4,
      "outputs": []
    },
    {
      "cell_type": "code",
      "source": [
        "index2region={0:'gangwon', 1:'gyeongsang', 2:'jeonla', 3:'chungcheong', 4:'jeju'}\n",
        "region2index = {v:k for k,v in index2region.items()}\n",
        "device = torch.device('cuda:0' if torch.cuda.is_available() else 'cpu')"
      ],
      "metadata": {
        "id": "vnfeGjKBzCQW"
      },
      "execution_count": 5,
      "outputs": []
    },
    {
      "cell_type": "code",
      "source": [
        "# 데이터 셋 구성 (small dataset)\n",
        "dataset_dir = '/content/drive/MyDrive/DialectDataset/small_dataset/'"
      ],
      "metadata": {
        "id": "SdpZJHsu3iVm"
      },
      "execution_count": 6,
      "outputs": []
    },
    {
      "cell_type": "code",
      "source": [
        "region_dir = glob(dataset_dir)\n",
        "region_dir"
      ],
      "metadata": {
        "colab": {
          "base_uri": "https://localhost:8080/"
        },
        "id": "vt9xHJeX4eUj",
        "outputId": "7f7be98e-12c7-49b5-d757-406cdab588bd"
      },
      "execution_count": 7,
      "outputs": [
        {
          "output_type": "execute_result",
          "data": {
            "text/plain": [
              "['/content/drive/MyDrive/DialectDataset/small_dataset/']"
            ]
          },
          "metadata": {},
          "execution_count": 7
        }
      ]
    },
    {
      "cell_type": "code",
      "source": [
        "for k, v in index2region.items():\n",
        "    exec(f\"{v}_dirs = glob(dataset_dir+'*_{v}/*')\")\n",
        "jeonla_dirs"
      ],
      "metadata": {
        "colab": {
          "base_uri": "https://localhost:8080/"
        },
        "id": "fmjloLpw4gjV",
        "outputId": "e934a77c-c1c7-47fc-d3ba-d28685429aa6"
      },
      "execution_count": 8,
      "outputs": [
        {
          "output_type": "execute_result",
          "data": {
            "text/plain": [
              "['/content/drive/MyDrive/DialectDataset/small_dataset/preprocessed_jeonla/DJDD20000014',\n",
              " '/content/drive/MyDrive/DialectDataset/small_dataset/preprocessed_jeonla/DJDD20000012',\n",
              " '/content/drive/MyDrive/DialectDataset/small_dataset/preprocessed_jeonla/DJDD20000019',\n",
              " '/content/drive/MyDrive/DialectDataset/small_dataset/preprocessed_jeonla/DJDD20000006',\n",
              " '/content/drive/MyDrive/DialectDataset/small_dataset/preprocessed_jeonla/DJDD20000015',\n",
              " '/content/drive/MyDrive/DialectDataset/small_dataset/preprocessed_jeonla/DJDD20000032',\n",
              " '/content/drive/MyDrive/DialectDataset/small_dataset/preprocessed_jeonla/DJDD20000027',\n",
              " '/content/drive/MyDrive/DialectDataset/small_dataset/preprocessed_jeonla/DJDD20000018',\n",
              " '/content/drive/MyDrive/DialectDataset/small_dataset/preprocessed_jeonla/DJDD20000005',\n",
              " '/content/drive/MyDrive/DialectDataset/small_dataset/preprocessed_jeonla/DJDD20000024']"
            ]
          },
          "metadata": {},
          "execution_count": 8
        }
      ]
    },
    {
      "cell_type": "code",
      "source": [
        "def make_tuple_data(dirs, max_num):\n",
        "    for i, region_dir in enumerate(dirs):\n",
        "        if i>=max_num:break\n",
        "        spectro_path = glob(region_dir+'/*_spectro.pickle')[0]\n",
        "        mfcc_path = glob(region_dir+'/*_mfcc.pickle')[0]\n",
        "        chroma_path = glob(region_dir+'/*_chroma.pickle')[0]\n",
        "        \n",
        "        with open(spectro_path, \"rb\") as f:\n",
        "            spectro = pickle.load(f)\n",
        "        with open(mfcc_path, \"rb\") as f:\n",
        "            mfcc = pickle.load(f)\n",
        "        with open(chroma_path, \"rb\") as f:\n",
        "            chroma = pickle.load(f)\n",
        "\n",
        "        if i == 0:\n",
        "            spectro_data = spectro\n",
        "            mfcc_data = mfcc\n",
        "            chroma_data = chroma\n",
        "        else:\n",
        "            spectro_data = np.concatenate([spectro_data,spectro], axis=0)\n",
        "            mfcc_data = np.concatenate([mfcc_data,mfcc], axis=0)\n",
        "            chroma_data = np.concatenate([chroma_data,chroma], axis=0)\n",
        "        \n",
        "    r_data = [(s,m,c) for s,m,c in zip(spectro_data,mfcc_data,chroma_data)]\n",
        "        \n",
        "    return r_data\n",
        "jeonla_data = make_tuple_data(jeonla_dirs, 3)\n",
        "chungcheong_data = make_tuple_data(chungcheong_dirs, 3)\n",
        "gyeongsang_data = make_tuple_data(gyeongsang_dirs, 3)\n",
        "jeju_data = make_tuple_data(jeju_dirs, 3)\n",
        "gangwon_data = make_tuple_data(gangwon_dirs, 3)\n",
        "\n",
        "print(\"data num: \", len(jeonla_data))\n",
        "print(\"tuple size\", len(jeonla_data[0]))\n",
        "print(\"spec shape\", jeonla_data[0][0].shape)"
      ],
      "metadata": {
        "colab": {
          "base_uri": "https://localhost:8080/"
        },
        "id": "AYUO22zQ8LVm",
        "outputId": "561f7cbb-b7d4-4898-f2b5-7a66c5e83eae"
      },
      "execution_count": 9,
      "outputs": [
        {
          "output_type": "stream",
          "name": "stdout",
          "text": [
            "data num:  322\n",
            "tuple size 3\n",
            "spec shape (201, 501)\n"
          ]
        }
      ]
    },
    {
      "cell_type": "code",
      "source": [
        "jeonla_data_l = []\n",
        "for data in jeonla_data:\n",
        "    y = [0,0,0,0,0]\n",
        "    y[region2index['jeonla']] = 1\n",
        "    jeonla_data_l.append((data,y))\n",
        "\n",
        "chungcheong_data_l = []\n",
        "for data in chungcheong_data:\n",
        "    y = [0,0,0,0,0]\n",
        "    y[region2index['chungcheong']] = 1\n",
        "    chungcheong_data_l.append((data,y))\n",
        "\n",
        "gyeongsang_data_l = []\n",
        "for data in gyeongsang_data:\n",
        "    y = [0,0,0,0,0]\n",
        "    y[region2index['gyeongsang']] = 1\n",
        "    gyeongsang_data_l.append((data,y))\n",
        "\n",
        "jeju_data_l = []\n",
        "for data in jeju_data:\n",
        "    y = [0,0,0,0,0]\n",
        "    y[region2index['jeju']] = 1\n",
        "    jeju_data_l.append((data,y))\n",
        "\n",
        "gangwon_data_l = []\n",
        "for data in gangwon_data:\n",
        "    y = [0,0,0,0,0]\n",
        "    y[region2index['gangwon']] = 1\n",
        "    gangwon_data_l.append((data,y))"
      ],
      "metadata": {
        "id": "xr6qlZ1YDxnq"
      },
      "execution_count": 10,
      "outputs": []
    },
    {
      "cell_type": "code",
      "source": [
        "datasumup = np.concatenate([jeonla_data_l, chungcheong_data_l, gangwon_data_l, jeju_data_l, gyeongsang_data_l], axis=0)"
      ],
      "metadata": {
        "colab": {
          "base_uri": "https://localhost:8080/"
        },
        "id": "QzqJhuPUE745",
        "outputId": "68a19a9e-f31b-4d4c-ec79-01b817efcaa7"
      },
      "execution_count": 11,
      "outputs": [
        {
          "output_type": "stream",
          "name": "stderr",
          "text": [
            "<string>:6: VisibleDeprecationWarning: Creating an ndarray from ragged nested sequences (which is a list-or-tuple of lists-or-tuples-or ndarrays with different lengths or shapes) is deprecated. If you meant to do this, you must specify 'dtype=object' when creating the ndarray.\n"
          ]
        }
      ]
    },
    {
      "cell_type": "code",
      "source": [
        "print(len(jeonla_data))\n",
        "print(len(jeonla_data[0]))\n",
        "print(len(jeonla_data[0][0]))\n",
        "print(jeonla_data[0][0][0].shape)\n",
        "print(jeonla_data[0][1])"
      ],
      "metadata": {
        "colab": {
          "base_uri": "https://localhost:8080/"
        },
        "id": "R92zKFQGEXcq",
        "outputId": "69bc09ad-5c5f-41a8-d625-2536a196a794"
      },
      "execution_count": 12,
      "outputs": [
        {
          "output_type": "stream",
          "name": "stdout",
          "text": [
            "322\n",
            "3\n",
            "201\n",
            "(501,)\n",
            "[[-803.2581 -803.2581 -803.2581 ... -803.2581 -803.2581 -803.2581]\n",
            " [   0.        0.        0.     ...    0.        0.        0.    ]\n",
            " [   0.        0.        0.     ...    0.        0.        0.    ]\n",
            " ...\n",
            " [   0.        0.        0.     ...    0.        0.        0.    ]\n",
            " [   0.        0.        0.     ...    0.        0.        0.    ]\n",
            " [   0.        0.        0.     ...    0.        0.        0.    ]]\n"
          ]
        }
      ]
    },
    {
      "cell_type": "code",
      "source": [
        "class MultiModalDataset(Dataset):\n",
        "\n",
        "    def __init__(self, data):\n",
        "\n",
        "        self.data = data\n",
        "\n",
        "    def __getitem__(self, idx):\n",
        "        datas, label = self.data[idx]\n",
        "        spec, mfcc, chroma = datas\n",
        "\n",
        "        spec, mfcc, chroma = torch.tensor(spec, dtype=torch.float32), torch.tensor(mfcc, dtype=torch.float32), torch.tensor(chroma, dtype=torch.float32)\n",
        "        spec, mfcc, chroma = spec.unsqueeze(0), mfcc.unsqueeze(0), chroma.unsqueeze(0)\n",
        "        label = torch.tensor(label, dtype=torch.float32)\n",
        "        data = (spec, mfcc, chroma)\n",
        "        return data, label\n",
        "    \n",
        "    def __len__(self):\n",
        "        return len(self.data)"
      ],
      "metadata": {
        "id": "tW3F0sH5BOQG"
      },
      "execution_count": 37,
      "outputs": []
    },
    {
      "cell_type": "code",
      "source": [
        "dataset = MultiModalDataset(datasumup)\n",
        "len(dataset)"
      ],
      "metadata": {
        "colab": {
          "base_uri": "https://localhost:8080/"
        },
        "id": "PGVp0a6QB_aX",
        "outputId": "a29e58d4-a567-42ab-eae2-12332fc944ab"
      },
      "execution_count": 38,
      "outputs": [
        {
          "output_type": "execute_result",
          "data": {
            "text/plain": [
              "1285"
            ]
          },
          "metadata": {},
          "execution_count": 38
        }
      ]
    },
    {
      "cell_type": "code",
      "source": [
        "class BasicBlock(nn.Module):\n",
        "\n",
        "    def __init__(self, in_channels, out_channels, stride=1):\n",
        "        super(BasicBlock, self).__init__()\n",
        "\n",
        "        self.relu = nn.ReLU()\n",
        "        self.conv1 = nn.Conv2d(in_channels=in_channels, out_channels=out_channels, kernel_size=(3,3), stride=stride, padding=1, bias=False)\n",
        "        self.bn1 = nn.BatchNorm2d(out_channels)\n",
        "        self.seq1 = nn.Sequential(self.conv1, self.bn1, self.relu)\n",
        "        self.conv2 = nn.Conv2d(in_channels=out_channels, out_channels=out_channels, kernel_size=(3,3), stride=1, padding=1, bias=False)\n",
        "        self.bn2 = nn.BatchNorm2d(out_channels)\n",
        "        self.seq2 = nn.Sequential(self.conv2, self.bn2)\n",
        "        \n",
        "        self.down_flag = False\n",
        "        if in_channels != out_channels: self.down_flag = True\n",
        "\n",
        "        self.downsample = nn.Conv2d(in_channels=in_channels, out_channels=out_channels, kernel_size=(1,1), stride=2, padding=0, bias=False)\n",
        "    \n",
        "    def forward(self, x):\n",
        "        #print(x.shape)\n",
        "        y = self.seq1(x)\n",
        "        #print(y.shape)\n",
        "        y = self.seq2(y)\n",
        "        #print(y.shape)\n",
        "\n",
        "        if self.down_flag:\n",
        "            x = self.downsample(x)\n",
        "        \n",
        "        y = self.relu(y)\n",
        "        #print(x.shape)\n",
        "        #print(y.shape)\n",
        "        y = y + x\n",
        "\n",
        "        return y\n",
        "        "
      ],
      "metadata": {
        "id": "mj7PPfwSFgeo"
      },
      "execution_count": 39,
      "outputs": []
    },
    {
      "cell_type": "code",
      "source": [
        "class ResNet18(nn.Module):\n",
        "\n",
        "    def __init__(self, in_channels, output_dim=1024, model_type='spec'):\n",
        "        super(ResNet18, self).__init__()\n",
        "\n",
        "        self.relu = nn.ReLU()\n",
        "\n",
        "        self.conv1 = nn.Conv2d(in_channels=in_channels, out_channels=64, kernel_size=(7,7), stride=2, padding=3)\n",
        "        self.BN1 = nn.BatchNorm2d(64)\n",
        "        self.pool1 = nn.MaxPool2d(kernel_size=(3,3), stride=2, padding=1)\n",
        "\n",
        "        self.seq1 = nn.Sequential(self.conv1, self.BN1, self.pool1)\n",
        "\n",
        "        self.seq2 = nn.Sequential(BasicBlock(64,64), BasicBlock(64,64))\n",
        "        self.seq3 = nn.Sequential(BasicBlock(64,64), BasicBlock(64, 128, stride=2))\n",
        "        self.seq4 = nn.Sequential(BasicBlock(128,128), BasicBlock(128,128))\n",
        "        self.seq5 = nn.Sequential(BasicBlock(128,128), BasicBlock(128,256,stride=2))\n",
        "\n",
        "        if model_type=='spec':\n",
        "            self.fc1 = nn.Linear(256*13*32, output_dim)\n",
        "        elif model_type=='mfcc':\n",
        "            self.fc1 = nn.Linear(256*7*32, output_dim)\n",
        "        elif model_type=='chroma':\n",
        "            self.fc1 = nn.Linear(256*1*32, output_dim)\n",
        "\n",
        "\n",
        "        self.lastlayer = nn.Sequential(self.fc1, self.relu)\n",
        "\n",
        "    def forward(self, x):\n",
        "        y = self.seq1(x)\n",
        "        y = self.seq2(y)\n",
        "        y = self.seq3(y)\n",
        "        y = self.seq4(y)\n",
        "        y = self.seq5(y)\n",
        "        y = y.view(y.shape[0],-1)\n",
        "        y = self.lastlayer(y)\n",
        "\n",
        "        return y\n",
        "\n"
      ],
      "metadata": {
        "id": "RuUiC7NlJfyq"
      },
      "execution_count": 40,
      "outputs": []
    },
    {
      "cell_type": "code",
      "source": [
        "class MultiModalDialectClassifier(nn.Module):\n",
        "\n",
        "    def __init__(self, hidden_dim=1024, out_dim=5, learning_rate=0.01, best_model_save_path=\"./best_model.pt\"):\n",
        "        super(MultiModalDialectClassifier, self).__init__()\n",
        "\n",
        "        self.best_model_save_path = best_model_save_path\n",
        "        self.spec_res = ResNet18(1, model_type='spec')\n",
        "        self.mfcc_res = ResNet18(1, model_type='mfcc')\n",
        "        self.chroma_res = ResNet18(1, model_type='chroma')\n",
        "        \n",
        "\n",
        "        self.relu = nn.ReLU()\n",
        "        self.fc1 = nn.Linear(1024*3, 512)\n",
        "        self.fc2 = nn.Linear(512,out_dim)\n",
        "        self.lastlayer = nn.Sequential(self.fc1, self.relu, self.fc2)\n",
        "\n",
        "        self.loss_f = nn.CrossEntropyLoss()\n",
        "        self.optimizer = optim.AdamW(self.parameters(), lr=learning_rate)\n",
        "        self.softmax = nn.Softmax(dim=1)\n",
        "    \n",
        "    def forward(self, x):\n",
        "        spec_x, mfcc_x, chroma_x = x\n",
        "\n",
        "        spec_y = self.spec_res(spec_x)\n",
        "        mfcc_y = self.mfcc_res(mfcc_x)\n",
        "        chroma_y = self.chroma_res(chroma_x)\n",
        "\n",
        "        y = torch.cat([spec_y, mfcc_y, chroma_y], dim=1)\n",
        "        y = y.view(y.shape[0], -1)\n",
        "        \n",
        "        y = self.lastlayer(y)\n",
        "        y = self.softmax(y)\n",
        "        #print(y.shape)\n",
        "        return y\n",
        "    \n",
        "    def train_(self, train_loader, val_loader, learning_rate, epochs, device):\n",
        "        self.train_accuracy = []\n",
        "        self.train_loss = []\n",
        "        self.val_accuracy = []\n",
        "        self.val_loss = []\n",
        "        best_epoch = -1\n",
        "        best_acc = -1 \n",
        "        \n",
        "        for epoch in range(1, epochs+1):\n",
        "            total = 0\n",
        "            correct = 0\n",
        "            start_time = time.time()\n",
        "            epoch_loss = 0.0\n",
        "            epoch_acc = 0.0\n",
        "            self.train()\n",
        "\n",
        "            for batch_idx, (batch_data, batch_label) in enumerate(tqdm(train_loader)):\n",
        "                \n",
        "                spec, mfcc, chroma = batch_data\n",
        "                spec, mfcc, chroma = spec.to(device), mfcc.to(device), chroma.to(device)\n",
        "                batch_data = (spec, mfcc, chroma)\n",
        "                batch_label = batch_label.to(device)\n",
        "\n",
        "                self.optimizer.zero_grad()\n",
        "\n",
        "                pred = self.forward(batch_data) # (batch_size, 5)\n",
        "                loss = self.loss_f(pred, batch_label)\n",
        "                loss.backward()\n",
        "                self.optimizer.step()\n",
        "\n",
        "                epoch_loss += loss.item()\n",
        "\n",
        "                _, pred_indices = torch.max(pred, axis=1)\n",
        "                total += batch_data[0].shape[0]\n",
        "                batch_label = torch.max(batch_label, axis=1)[1]\n",
        "                correct += pred_indices.eq(batch_label).sum().item()\n",
        "                for p, l in zip(pred_indices, batch_label):\n",
        "                    print(f\"predicted: {index2region[p.item()]} real:{index2region[l.item()]}\")\n",
        "            \n",
        "            end_time = time.time()\n",
        "            print(f\"epoch {epoch} time: {end_time-start_time}sec(s).\")\n",
        "\n",
        "\n",
        "            epoch_loss /= len(train_loader)\n",
        "            self.train_loss.append(epoch_loss)\n",
        "            epoch_acc = correct / total\n",
        "            self.train_accuracy.append(epoch_acc)\n",
        "            print(f\"epoch {epoch} train accuracy: {epoch_acc}\")\n",
        "            print(f\"epoch {epoch} loss: {epoch_loss}\")  \n",
        "\n",
        "\n",
        "            predicted, labels, val_loss = self.predict(val_loader, device)\n",
        "            \n",
        "            val_acc = predicted.eq(labels).sum().item() / len(predicted)\n",
        "            print(f\"epoch {epoch} val accuracy: {val_acc}\")\n",
        "\n",
        "            if val_acc > epoch_acc:\n",
        "                best_acc = val_acc\n",
        "                best_epoch = epoch\n",
        "                torch.save(self.state_dict(), self.best_model_save_path)\n",
        "            \n",
        "            self.val_accuracy.append(val_acc)\n",
        "            self.val_loss.append(val_loss)\n",
        "            \n",
        "            \n",
        "            \n",
        "        print(\"Finish!\")\n",
        "        \n",
        "        return best_acc, best_epoch\n",
        "            \n",
        "    def predict(self, test_loader, device):\n",
        "        self.eval()\n",
        "        labels = []\n",
        "        predicted = []\n",
        "        val_loss = 0.0\n",
        "        with torch.no_grad():\n",
        "            for batch_idx, (batch_data, batch_label) in enumerate(tqdm(test_loader)):\n",
        "\n",
        "                spec, mfcc, chroma = batch_data\n",
        "                spec, mfcc, chroma = spec.to(device), mfcc.to(device), chroma.to(device)\n",
        "                batch_data = (spec, mfcc, chroma)\n",
        "                batch_label = batch_label.to(device)\n",
        "                \n",
        "                pred = self.forward(batch_data)\n",
        "\n",
        "                _, pred_indices = torch.max(pred, axis=1)\n",
        "                loss = self.loss(pred, batch_label)\n",
        "                \n",
        "                val_loss += loss.item()\n",
        "\n",
        "                predicted.append(pred_indices)\n",
        "                batch_label = torch.max(batch_label, axis=1)[1]\n",
        "                labels.append(batch_label)\n",
        "        val_loss /= len(test_loader)\n",
        "        predicted = torch.cat(predicted, dim=0)\n",
        "        labels = torch.cat(labels, dim=0)\n",
        "\n",
        "        return predicted, labels, val_loss\n",
        "    \n",
        "    def plot(self, which):\n",
        "        \n",
        "        X = [i for i in range(1, len(self.train_accuracy) + 1)]\n",
        "        if which=='train_loss':\n",
        "            y = self.train_loss\n",
        "        elif which=='train_acc':\n",
        "            y = self.train_accuracy\n",
        "        elif which=='val_acc':\n",
        "            y = self.val_accuracy\n",
        "        elif which=='val_loss':\n",
        "            y = self.val_loss\n",
        "\n",
        "        plt.xlabel(\"epoch\")\n",
        "        plt.ylabel(which)\n",
        "        plt.title(which)\n",
        "        plt.plot(X, y, label=\"Train loss\")\n",
        "        plt.savefig(f\"./model_{which}.png\")\n",
        "        plt.show()\n",
        "\n",
        "        \n",
        "        \n",
        "        "
      ],
      "metadata": {
        "id": "2bHMnPJIY87t"
      },
      "execution_count": 41,
      "outputs": []
    },
    {
      "cell_type": "code",
      "source": [
        "model = MultiModalDialectClassifier().to(device)"
      ],
      "metadata": {
        "id": "JQR5-OSsWel5"
      },
      "execution_count": 42,
      "outputs": []
    },
    {
      "cell_type": "code",
      "source": [
        "train_size = int(len(dataset)*0.8)\n",
        "test_size = len(dataset) - train_size\n",
        "\n",
        "train_dataset, test_dataset = random_split(dataset, [train_size, test_size])\n",
        "\n",
        "train_loader = DataLoader(train_dataset, batch_size=32, shuffle=True)\n",
        "test_loader = DataLoader(test_dataset, batch_size=32, shuffle=True)"
      ],
      "metadata": {
        "id": "o9JomlP8osW0"
      },
      "execution_count": 43,
      "outputs": []
    },
    {
      "cell_type": "code",
      "source": [
        "model.train_(train_loader, test_loader, 0.005, 5, device)"
      ],
      "metadata": {
        "colab": {
          "base_uri": "https://localhost:8080/"
        },
        "id": "Gn_vHltnkeKV",
        "outputId": "bece47ff-1fe7-437e-cecd-717087ee526c"
      },
      "execution_count": null,
      "outputs": [
        {
          "output_type": "stream",
          "name": "stderr",
          "text": [
            "  3%|▎         | 1/33 [00:33<17:43, 33.22s/it]"
          ]
        },
        {
          "output_type": "stream",
          "name": "stdout",
          "text": [
            "predicted: jeonla real:gangwon\n",
            "predicted: jeonla real:jeonla\n",
            "predicted: jeonla real:chungcheong\n",
            "predicted: jeonla real:jeju\n",
            "predicted: gangwon real:chungcheong\n",
            "predicted: gangwon real:chungcheong\n",
            "predicted: jeonla real:jeju\n",
            "predicted: gangwon real:chungcheong\n",
            "predicted: jeonla real:gangwon\n",
            "predicted: jeonla real:jeju\n",
            "predicted: jeju real:chungcheong\n",
            "predicted: jeonla real:chungcheong\n",
            "predicted: jeonla real:chungcheong\n",
            "predicted: jeonla real:chungcheong\n",
            "predicted: jeonla real:chungcheong\n",
            "predicted: jeonla real:gangwon\n",
            "predicted: jeonla real:jeonla\n",
            "predicted: jeonla real:gyeongsang\n",
            "predicted: gangwon real:chungcheong\n",
            "predicted: jeonla real:jeonla\n",
            "predicted: jeonla real:jeju\n",
            "predicted: gangwon real:chungcheong\n",
            "predicted: gangwon real:gangwon\n",
            "predicted: jeonla real:gangwon\n",
            "predicted: jeonla real:chungcheong\n",
            "predicted: jeonla real:jeju\n",
            "predicted: jeonla real:gangwon\n",
            "predicted: jeonla real:gyeongsang\n",
            "predicted: chungcheong real:jeju\n",
            "predicted: jeonla real:gyeongsang\n",
            "predicted: jeonla real:jeonla\n",
            "predicted: chungcheong real:jeonla\n"
          ]
        },
        {
          "output_type": "stream",
          "name": "stderr",
          "text": [
            "\r  6%|▌         | 2/33 [01:07<17:32, 33.96s/it]"
          ]
        },
        {
          "output_type": "stream",
          "name": "stdout",
          "text": [
            "predicted: chungcheong real:gangwon\n",
            "predicted: chungcheong real:jeonla\n",
            "predicted: chungcheong real:jeju\n",
            "predicted: chungcheong real:gyeongsang\n",
            "predicted: chungcheong real:gangwon\n",
            "predicted: chungcheong real:jeonla\n",
            "predicted: chungcheong real:chungcheong\n",
            "predicted: chungcheong real:gyeongsang\n",
            "predicted: chungcheong real:chungcheong\n",
            "predicted: chungcheong real:chungcheong\n",
            "predicted: chungcheong real:chungcheong\n",
            "predicted: chungcheong real:gyeongsang\n",
            "predicted: chungcheong real:gangwon\n",
            "predicted: chungcheong real:gangwon\n",
            "predicted: chungcheong real:jeonla\n",
            "predicted: chungcheong real:chungcheong\n",
            "predicted: chungcheong real:chungcheong\n",
            "predicted: chungcheong real:gyeongsang\n",
            "predicted: chungcheong real:chungcheong\n",
            "predicted: chungcheong real:jeonla\n",
            "predicted: chungcheong real:jeju\n",
            "predicted: chungcheong real:gyeongsang\n",
            "predicted: chungcheong real:gangwon\n",
            "predicted: chungcheong real:gyeongsang\n",
            "predicted: chungcheong real:gyeongsang\n",
            "predicted: chungcheong real:gangwon\n",
            "predicted: chungcheong real:gyeongsang\n",
            "predicted: chungcheong real:chungcheong\n",
            "predicted: chungcheong real:chungcheong\n",
            "predicted: chungcheong real:gyeongsang\n",
            "predicted: chungcheong real:jeju\n",
            "predicted: chungcheong real:jeju\n"
          ]
        },
        {
          "output_type": "stream",
          "name": "stderr",
          "text": [
            "\r  9%|▉         | 3/33 [01:43<17:18, 34.61s/it]"
          ]
        },
        {
          "output_type": "stream",
          "name": "stdout",
          "text": [
            "predicted: chungcheong real:jeonla\n",
            "predicted: chungcheong real:jeonla\n",
            "predicted: chungcheong real:gyeongsang\n",
            "predicted: chungcheong real:jeonla\n",
            "predicted: chungcheong real:jeju\n",
            "predicted: chungcheong real:chungcheong\n",
            "predicted: chungcheong real:gangwon\n",
            "predicted: chungcheong real:jeju\n",
            "predicted: chungcheong real:jeonla\n",
            "predicted: chungcheong real:gyeongsang\n",
            "predicted: chungcheong real:gangwon\n",
            "predicted: chungcheong real:jeonla\n",
            "predicted: chungcheong real:jeonla\n",
            "predicted: chungcheong real:chungcheong\n",
            "predicted: chungcheong real:gyeongsang\n",
            "predicted: chungcheong real:gyeongsang\n",
            "predicted: chungcheong real:chungcheong\n",
            "predicted: chungcheong real:jeju\n",
            "predicted: chungcheong real:gangwon\n",
            "predicted: chungcheong real:gyeongsang\n",
            "predicted: chungcheong real:jeonla\n",
            "predicted: chungcheong real:chungcheong\n",
            "predicted: chungcheong real:chungcheong\n",
            "predicted: chungcheong real:chungcheong\n",
            "predicted: chungcheong real:gyeongsang\n",
            "predicted: chungcheong real:chungcheong\n",
            "predicted: chungcheong real:chungcheong\n",
            "predicted: chungcheong real:jeonla\n",
            "predicted: chungcheong real:jeonla\n",
            "predicted: chungcheong real:gyeongsang\n",
            "predicted: chungcheong real:jeonla\n",
            "predicted: chungcheong real:jeonla\n"
          ]
        },
        {
          "output_type": "stream",
          "name": "stderr",
          "text": [
            "\r 12%|█▏        | 4/33 [02:16<16:25, 33.97s/it]"
          ]
        },
        {
          "output_type": "stream",
          "name": "stdout",
          "text": [
            "predicted: chungcheong real:jeonla\n",
            "predicted: chungcheong real:jeonla\n",
            "predicted: chungcheong real:gyeongsang\n",
            "predicted: chungcheong real:gyeongsang\n",
            "predicted: chungcheong real:gangwon\n",
            "predicted: chungcheong real:chungcheong\n",
            "predicted: chungcheong real:jeonla\n",
            "predicted: chungcheong real:gyeongsang\n",
            "predicted: chungcheong real:chungcheong\n",
            "predicted: chungcheong real:gyeongsang\n",
            "predicted: chungcheong real:gyeongsang\n",
            "predicted: chungcheong real:gyeongsang\n",
            "predicted: chungcheong real:chungcheong\n",
            "predicted: chungcheong real:chungcheong\n",
            "predicted: chungcheong real:gangwon\n",
            "predicted: chungcheong real:chungcheong\n",
            "predicted: chungcheong real:gangwon\n",
            "predicted: chungcheong real:jeju\n",
            "predicted: chungcheong real:chungcheong\n",
            "predicted: chungcheong real:gyeongsang\n",
            "predicted: chungcheong real:jeonla\n",
            "predicted: chungcheong real:jeonla\n",
            "predicted: chungcheong real:chungcheong\n",
            "predicted: chungcheong real:gangwon\n",
            "predicted: chungcheong real:gyeongsang\n",
            "predicted: chungcheong real:chungcheong\n",
            "predicted: chungcheong real:chungcheong\n",
            "predicted: chungcheong real:jeonla\n",
            "predicted: chungcheong real:jeju\n",
            "predicted: chungcheong real:gyeongsang\n",
            "predicted: chungcheong real:jeonla\n",
            "predicted: chungcheong real:gyeongsang\n"
          ]
        },
        {
          "output_type": "stream",
          "name": "stderr",
          "text": [
            "\r 15%|█▌        | 5/33 [02:46<15:15, 32.71s/it]"
          ]
        },
        {
          "output_type": "stream",
          "name": "stdout",
          "text": [
            "predicted: chungcheong real:gangwon\n",
            "predicted: chungcheong real:gyeongsang\n",
            "predicted: chungcheong real:jeju\n",
            "predicted: chungcheong real:gyeongsang\n",
            "predicted: chungcheong real:jeonla\n",
            "predicted: chungcheong real:chungcheong\n",
            "predicted: chungcheong real:jeju\n",
            "predicted: chungcheong real:gangwon\n",
            "predicted: chungcheong real:jeju\n",
            "predicted: chungcheong real:jeju\n",
            "predicted: chungcheong real:gyeongsang\n",
            "predicted: chungcheong real:jeju\n",
            "predicted: chungcheong real:jeju\n",
            "predicted: chungcheong real:jeonla\n",
            "predicted: chungcheong real:jeonla\n",
            "predicted: chungcheong real:jeju\n",
            "predicted: chungcheong real:gyeongsang\n",
            "predicted: chungcheong real:jeonla\n",
            "predicted: chungcheong real:jeju\n",
            "predicted: chungcheong real:chungcheong\n",
            "predicted: chungcheong real:chungcheong\n",
            "predicted: chungcheong real:jeju\n",
            "predicted: chungcheong real:jeonla\n",
            "predicted: chungcheong real:chungcheong\n",
            "predicted: chungcheong real:jeonla\n",
            "predicted: chungcheong real:jeju\n",
            "predicted: chungcheong real:gangwon\n",
            "predicted: chungcheong real:gyeongsang\n",
            "predicted: chungcheong real:gyeongsang\n",
            "predicted: chungcheong real:chungcheong\n",
            "predicted: chungcheong real:chungcheong\n",
            "predicted: chungcheong real:gangwon\n"
          ]
        },
        {
          "output_type": "stream",
          "name": "stderr",
          "text": [
            "\r 18%|█▊        | 6/33 [03:17<14:23, 31.98s/it]"
          ]
        },
        {
          "output_type": "stream",
          "name": "stdout",
          "text": [
            "predicted: chungcheong real:jeju\n",
            "predicted: chungcheong real:jeonla\n",
            "predicted: chungcheong real:jeonla\n",
            "predicted: chungcheong real:gyeongsang\n",
            "predicted: chungcheong real:jeju\n",
            "predicted: chungcheong real:jeju\n",
            "predicted: chungcheong real:jeonla\n",
            "predicted: chungcheong real:chungcheong\n",
            "predicted: chungcheong real:jeonla\n",
            "predicted: chungcheong real:jeonla\n",
            "predicted: chungcheong real:chungcheong\n",
            "predicted: chungcheong real:gyeongsang\n",
            "predicted: chungcheong real:chungcheong\n",
            "predicted: chungcheong real:jeonla\n",
            "predicted: chungcheong real:chungcheong\n",
            "predicted: chungcheong real:gyeongsang\n",
            "predicted: chungcheong real:chungcheong\n",
            "predicted: chungcheong real:gangwon\n",
            "predicted: chungcheong real:jeonla\n",
            "predicted: chungcheong real:gangwon\n",
            "predicted: chungcheong real:chungcheong\n",
            "predicted: chungcheong real:gangwon\n",
            "predicted: chungcheong real:jeonla\n",
            "predicted: chungcheong real:chungcheong\n",
            "predicted: chungcheong real:jeonla\n",
            "predicted: chungcheong real:gangwon\n",
            "predicted: chungcheong real:gyeongsang\n",
            "predicted: chungcheong real:gyeongsang\n",
            "predicted: chungcheong real:chungcheong\n",
            "predicted: chungcheong real:chungcheong\n",
            "predicted: chungcheong real:jeonla\n",
            "predicted: chungcheong real:jeonla\n"
          ]
        },
        {
          "output_type": "stream",
          "name": "stderr",
          "text": [
            "\r 21%|██        | 7/33 [03:47<13:40, 31.54s/it]"
          ]
        },
        {
          "output_type": "stream",
          "name": "stdout",
          "text": [
            "predicted: chungcheong real:gyeongsang\n",
            "predicted: chungcheong real:jeonla\n",
            "predicted: chungcheong real:gyeongsang\n",
            "predicted: chungcheong real:chungcheong\n",
            "predicted: chungcheong real:chungcheong\n",
            "predicted: chungcheong real:jeju\n",
            "predicted: chungcheong real:chungcheong\n",
            "predicted: chungcheong real:gyeongsang\n",
            "predicted: chungcheong real:chungcheong\n",
            "predicted: chungcheong real:chungcheong\n",
            "predicted: chungcheong real:jeju\n",
            "predicted: chungcheong real:gyeongsang\n",
            "predicted: chungcheong real:gangwon\n",
            "predicted: chungcheong real:jeonla\n",
            "predicted: chungcheong real:gangwon\n",
            "predicted: chungcheong real:jeonla\n",
            "predicted: chungcheong real:jeonla\n",
            "predicted: chungcheong real:gangwon\n",
            "predicted: chungcheong real:gangwon\n",
            "predicted: chungcheong real:gangwon\n",
            "predicted: chungcheong real:jeju\n",
            "predicted: chungcheong real:jeonla\n",
            "predicted: chungcheong real:gangwon\n",
            "predicted: chungcheong real:jeonla\n",
            "predicted: chungcheong real:chungcheong\n",
            "predicted: chungcheong real:jeonla\n",
            "predicted: chungcheong real:gyeongsang\n",
            "predicted: chungcheong real:gyeongsang\n",
            "predicted: chungcheong real:jeju\n",
            "predicted: chungcheong real:jeju\n",
            "predicted: chungcheong real:gyeongsang\n",
            "predicted: chungcheong real:chungcheong\n"
          ]
        },
        {
          "output_type": "stream",
          "name": "stderr",
          "text": [
            "\r 24%|██▍       | 8/33 [04:18<13:00, 31.23s/it]"
          ]
        },
        {
          "output_type": "stream",
          "name": "stdout",
          "text": [
            "predicted: chungcheong real:jeju\n",
            "predicted: chungcheong real:gangwon\n",
            "predicted: chungcheong real:gangwon\n",
            "predicted: chungcheong real:jeju\n",
            "predicted: chungcheong real:jeonla\n",
            "predicted: chungcheong real:chungcheong\n",
            "predicted: chungcheong real:gangwon\n",
            "predicted: chungcheong real:gyeongsang\n",
            "predicted: chungcheong real:chungcheong\n",
            "predicted: chungcheong real:jeju\n",
            "predicted: chungcheong real:gangwon\n",
            "predicted: chungcheong real:gyeongsang\n",
            "predicted: chungcheong real:chungcheong\n",
            "predicted: chungcheong real:gyeongsang\n",
            "predicted: chungcheong real:jeonla\n",
            "predicted: chungcheong real:jeju\n",
            "predicted: chungcheong real:jeju\n",
            "predicted: chungcheong real:chungcheong\n",
            "predicted: chungcheong real:gyeongsang\n",
            "predicted: chungcheong real:chungcheong\n",
            "predicted: chungcheong real:jeju\n",
            "predicted: chungcheong real:gyeongsang\n",
            "predicted: chungcheong real:jeju\n",
            "predicted: chungcheong real:jeju\n",
            "predicted: chungcheong real:gyeongsang\n",
            "predicted: chungcheong real:gangwon\n",
            "predicted: chungcheong real:jeonla\n",
            "predicted: chungcheong real:jeju\n",
            "predicted: chungcheong real:chungcheong\n",
            "predicted: chungcheong real:jeju\n",
            "predicted: chungcheong real:jeonla\n",
            "predicted: chungcheong real:gyeongsang\n"
          ]
        },
        {
          "output_type": "stream",
          "name": "stderr",
          "text": [
            "\r 27%|██▋       | 9/33 [04:48<12:23, 30.97s/it]"
          ]
        },
        {
          "output_type": "stream",
          "name": "stdout",
          "text": [
            "predicted: chungcheong real:gyeongsang\n",
            "predicted: chungcheong real:jeonla\n",
            "predicted: chungcheong real:jeju\n",
            "predicted: chungcheong real:chungcheong\n",
            "predicted: chungcheong real:gangwon\n",
            "predicted: chungcheong real:jeju\n",
            "predicted: chungcheong real:jeju\n",
            "predicted: chungcheong real:gyeongsang\n",
            "predicted: chungcheong real:jeju\n",
            "predicted: chungcheong real:gyeongsang\n",
            "predicted: chungcheong real:chungcheong\n",
            "predicted: chungcheong real:gyeongsang\n",
            "predicted: chungcheong real:chungcheong\n",
            "predicted: chungcheong real:chungcheong\n",
            "predicted: chungcheong real:jeonla\n",
            "predicted: chungcheong real:jeju\n",
            "predicted: chungcheong real:chungcheong\n",
            "predicted: chungcheong real:chungcheong\n",
            "predicted: chungcheong real:gyeongsang\n",
            "predicted: chungcheong real:gyeongsang\n",
            "predicted: chungcheong real:chungcheong\n",
            "predicted: chungcheong real:jeju\n",
            "predicted: chungcheong real:jeonla\n",
            "predicted: chungcheong real:gyeongsang\n",
            "predicted: chungcheong real:chungcheong\n",
            "predicted: chungcheong real:chungcheong\n",
            "predicted: chungcheong real:gyeongsang\n",
            "predicted: chungcheong real:jeju\n",
            "predicted: chungcheong real:jeju\n",
            "predicted: chungcheong real:jeonla\n",
            "predicted: chungcheong real:gangwon\n",
            "predicted: chungcheong real:jeju\n"
          ]
        },
        {
          "output_type": "stream",
          "name": "stderr",
          "text": [
            "\r 30%|███       | 10/33 [05:19<11:50, 30.89s/it]"
          ]
        },
        {
          "output_type": "stream",
          "name": "stdout",
          "text": [
            "predicted: chungcheong real:gyeongsang\n",
            "predicted: chungcheong real:gangwon\n",
            "predicted: chungcheong real:gangwon\n",
            "predicted: chungcheong real:gyeongsang\n",
            "predicted: chungcheong real:jeonla\n",
            "predicted: chungcheong real:gyeongsang\n",
            "predicted: chungcheong real:gyeongsang\n",
            "predicted: chungcheong real:chungcheong\n",
            "predicted: chungcheong real:jeonla\n",
            "predicted: chungcheong real:jeonla\n",
            "predicted: chungcheong real:jeonla\n",
            "predicted: chungcheong real:chungcheong\n",
            "predicted: chungcheong real:gyeongsang\n",
            "predicted: chungcheong real:gyeongsang\n",
            "predicted: chungcheong real:chungcheong\n",
            "predicted: chungcheong real:chungcheong\n",
            "predicted: chungcheong real:gangwon\n",
            "predicted: chungcheong real:gangwon\n",
            "predicted: chungcheong real:jeonla\n",
            "predicted: chungcheong real:jeju\n",
            "predicted: chungcheong real:jeju\n",
            "predicted: chungcheong real:gangwon\n",
            "predicted: chungcheong real:chungcheong\n",
            "predicted: chungcheong real:jeonla\n",
            "predicted: chungcheong real:jeju\n",
            "predicted: chungcheong real:chungcheong\n",
            "predicted: chungcheong real:gangwon\n",
            "predicted: chungcheong real:chungcheong\n",
            "predicted: chungcheong real:jeonla\n",
            "predicted: chungcheong real:chungcheong\n",
            "predicted: chungcheong real:gyeongsang\n",
            "predicted: chungcheong real:chungcheong\n"
          ]
        },
        {
          "output_type": "stream",
          "name": "stderr",
          "text": [
            "\r 33%|███▎      | 11/33 [05:50<11:18, 30.83s/it]"
          ]
        },
        {
          "output_type": "stream",
          "name": "stdout",
          "text": [
            "predicted: chungcheong real:jeonla\n",
            "predicted: chungcheong real:gyeongsang\n",
            "predicted: chungcheong real:jeonla\n",
            "predicted: chungcheong real:jeju\n",
            "predicted: chungcheong real:gyeongsang\n",
            "predicted: chungcheong real:gangwon\n",
            "predicted: chungcheong real:chungcheong\n",
            "predicted: chungcheong real:jeju\n",
            "predicted: chungcheong real:chungcheong\n",
            "predicted: chungcheong real:jeonla\n",
            "predicted: chungcheong real:gangwon\n",
            "predicted: chungcheong real:chungcheong\n",
            "predicted: chungcheong real:jeju\n",
            "predicted: chungcheong real:gyeongsang\n",
            "predicted: chungcheong real:jeju\n",
            "predicted: chungcheong real:gyeongsang\n",
            "predicted: chungcheong real:jeju\n",
            "predicted: chungcheong real:gyeongsang\n",
            "predicted: chungcheong real:chungcheong\n",
            "predicted: chungcheong real:gangwon\n",
            "predicted: chungcheong real:chungcheong\n",
            "predicted: chungcheong real:gyeongsang\n",
            "predicted: chungcheong real:chungcheong\n",
            "predicted: chungcheong real:gyeongsang\n",
            "predicted: chungcheong real:jeju\n",
            "predicted: chungcheong real:jeonla\n",
            "predicted: chungcheong real:chungcheong\n",
            "predicted: chungcheong real:jeonla\n",
            "predicted: chungcheong real:gyeongsang\n",
            "predicted: chungcheong real:jeonla\n",
            "predicted: chungcheong real:chungcheong\n",
            "predicted: chungcheong real:gyeongsang\n"
          ]
        },
        {
          "output_type": "stream",
          "name": "stderr",
          "text": [
            "\r 36%|███▋      | 12/33 [06:20<10:44, 30.71s/it]"
          ]
        },
        {
          "output_type": "stream",
          "name": "stdout",
          "text": [
            "predicted: chungcheong real:chungcheong\n",
            "predicted: chungcheong real:gyeongsang\n",
            "predicted: chungcheong real:chungcheong\n",
            "predicted: chungcheong real:chungcheong\n",
            "predicted: chungcheong real:jeju\n",
            "predicted: chungcheong real:jeju\n",
            "predicted: chungcheong real:chungcheong\n",
            "predicted: chungcheong real:chungcheong\n",
            "predicted: chungcheong real:jeju\n",
            "predicted: chungcheong real:jeonla\n",
            "predicted: chungcheong real:jeonla\n",
            "predicted: chungcheong real:chungcheong\n",
            "predicted: chungcheong real:gyeongsang\n",
            "predicted: chungcheong real:jeju\n",
            "predicted: chungcheong real:jeju\n",
            "predicted: chungcheong real:jeonla\n",
            "predicted: chungcheong real:gangwon\n",
            "predicted: chungcheong real:gangwon\n",
            "predicted: chungcheong real:gangwon\n",
            "predicted: chungcheong real:chungcheong\n",
            "predicted: chungcheong real:gyeongsang\n",
            "predicted: chungcheong real:gangwon\n",
            "predicted: chungcheong real:jeonla\n",
            "predicted: chungcheong real:jeonla\n",
            "predicted: chungcheong real:jeonla\n",
            "predicted: chungcheong real:jeonla\n",
            "predicted: chungcheong real:chungcheong\n",
            "predicted: chungcheong real:jeonla\n",
            "predicted: chungcheong real:gangwon\n",
            "predicted: chungcheong real:jeonla\n",
            "predicted: chungcheong real:chungcheong\n",
            "predicted: chungcheong real:chungcheong\n"
          ]
        },
        {
          "output_type": "stream",
          "name": "stderr",
          "text": [
            "\r 39%|███▉      | 13/33 [06:51<10:12, 30.64s/it]"
          ]
        },
        {
          "output_type": "stream",
          "name": "stdout",
          "text": [
            "predicted: chungcheong real:jeonla\n",
            "predicted: chungcheong real:jeonla\n",
            "predicted: chungcheong real:gyeongsang\n",
            "predicted: chungcheong real:jeonla\n",
            "predicted: chungcheong real:jeju\n",
            "predicted: chungcheong real:jeonla\n",
            "predicted: chungcheong real:gangwon\n",
            "predicted: chungcheong real:chungcheong\n",
            "predicted: chungcheong real:chungcheong\n",
            "predicted: chungcheong real:chungcheong\n",
            "predicted: chungcheong real:chungcheong\n",
            "predicted: chungcheong real:jeju\n",
            "predicted: chungcheong real:jeonla\n",
            "predicted: chungcheong real:gangwon\n",
            "predicted: chungcheong real:gangwon\n",
            "predicted: chungcheong real:gangwon\n",
            "predicted: chungcheong real:gyeongsang\n",
            "predicted: chungcheong real:jeonla\n",
            "predicted: chungcheong real:jeju\n",
            "predicted: chungcheong real:gyeongsang\n",
            "predicted: chungcheong real:chungcheong\n",
            "predicted: chungcheong real:chungcheong\n",
            "predicted: chungcheong real:jeju\n",
            "predicted: chungcheong real:jeju\n",
            "predicted: chungcheong real:gyeongsang\n",
            "predicted: chungcheong real:gangwon\n",
            "predicted: chungcheong real:jeju\n",
            "predicted: chungcheong real:gyeongsang\n",
            "predicted: chungcheong real:chungcheong\n",
            "predicted: chungcheong real:gangwon\n",
            "predicted: chungcheong real:jeonla\n",
            "predicted: chungcheong real:chungcheong\n"
          ]
        }
      ]
    },
    {
      "cell_type": "code",
      "source": [
        "model.plot('train_acc')"
      ],
      "metadata": {
        "id": "Trco3DXpFCbw"
      },
      "execution_count": null,
      "outputs": []
    },
    {
      "cell_type": "code",
      "source": [
        "model.plot('train_loss')"
      ],
      "metadata": {
        "id": "xXRY31AfHWXS"
      },
      "execution_count": null,
      "outputs": []
    },
    {
      "cell_type": "code",
      "source": [
        "model.plot('val_acc')"
      ],
      "metadata": {
        "id": "_s72jVmCHY0_"
      },
      "execution_count": null,
      "outputs": []
    },
    {
      "cell_type": "code",
      "source": [
        ""
      ],
      "metadata": {
        "id": "ixll7DxO0k0S"
      },
      "execution_count": null,
      "outputs": []
    }
  ]
}