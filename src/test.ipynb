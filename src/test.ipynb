{
 "cells": [
  {
   "cell_type": "code",
   "execution_count": 1,
   "metadata": {},
   "outputs": [],
   "source": [
    "import os\n",
    "import librosa"
   ]
  },
  {
   "cell_type": "code",
   "execution_count": 2,
   "metadata": {},
   "outputs": [],
   "source": [
    "label_dir = '../dataset/gangwon/gangwon_label'\n",
    "data_dir = '../dataset/gangwon/gangwon_data_1'"
   ]
  },
  {
   "cell_type": "code",
   "execution_count": 3,
   "metadata": {},
   "outputs": [],
   "source": [
    "label_jsons = os.listdir(label_dir)\n",
    "label_jsons = [f for f in label_jsons if f.endswith('.json')]"
   ]
  },
  {
   "cell_type": "code",
   "execution_count": 4,
   "metadata": {},
   "outputs": [],
   "source": [
    "sample_data = os.listdir(data_dir)[0]"
   ]
  },
  {
   "cell_type": "code",
   "execution_count": 5,
   "metadata": {},
   "outputs": [],
   "source": [
    "sample_json = list(filter(lambda y: y[:-4]==sample_data[:-3], label_jsons))[0]"
   ]
  },
  {
   "cell_type": "code",
   "execution_count": 6,
   "metadata": {},
   "outputs": [],
   "source": [
    "import json\n",
    "\n",
    "with open(os.path.join(label_dir, sample_json), \"r\") as f:\n",
    "    s_json = json.load(f)"
   ]
  },
  {
   "cell_type": "code",
   "execution_count": 31,
   "metadata": {},
   "outputs": [],
   "source": [
    "s_j_dict = [(s_j['start'], (s_j['end'])) for s_j in s_json['utterance']]\n"
   ]
  },
  {
   "cell_type": "code",
   "execution_count": 10,
   "metadata": {},
   "outputs": [],
   "source": [
    "y, sr = librosa.load(os.path.join(data_dir, sample_data))"
   ]
  },
  {
   "cell_type": "code",
   "execution_count": 13,
   "metadata": {},
   "outputs": [],
   "source": [
    "tempo, beat_frames = librosa.beat.beat_track(y=y, sr=sr)"
   ]
  },
  {
   "cell_type": "code",
   "execution_count": 3,
   "metadata": {},
   "outputs": [],
   "source": [
    "from preprocessing import Preprocessor"
   ]
  },
  {
   "cell_type": "code",
   "execution_count": 6,
   "metadata": {},
   "outputs": [],
   "source": [
    "label_file_path = '../dataset/gangwon/gangwon_label'\n",
    "wav_file_path = '../dataset/gangwon/gangwon_data_1'\n",
    "save_region_dir = './gangwon_preprocessed'"
   ]
  },
  {
   "cell_type": "code",
   "execution_count": null,
   "metadata": {},
   "outputs": [],
   "source": []
  },
  {
   "cell_type": "code",
   "execution_count": 7,
   "metadata": {},
   "outputs": [
    {
     "ename": "AttributeError",
     "evalue": "module 'posixpath' has no attribute 'listdir'",
     "output_type": "error",
     "traceback": [
      "\u001b[0;31m---------------------------------------------------------------------------\u001b[0m",
      "\u001b[0;31mAttributeError\u001b[0m                            Traceback (most recent call last)",
      "\u001b[0;32m<ipython-input-7-63941a30316f>\u001b[0m in \u001b[0;36m<module>\u001b[0;34m\u001b[0m\n\u001b[0;32m----> 1\u001b[0;31m \u001b[0mpp\u001b[0m \u001b[0;34m=\u001b[0m \u001b[0mPreprocessor\u001b[0m\u001b[0;34m(\u001b[0m\u001b[0mlabel_file_path\u001b[0m\u001b[0;34m,\u001b[0m \u001b[0mwav_file_path\u001b[0m\u001b[0;34m,\u001b[0m \u001b[0msave_region_dir\u001b[0m\u001b[0;34m)\u001b[0m\u001b[0;34m\u001b[0m\u001b[0;34m\u001b[0m\u001b[0m\n\u001b[0m",
      "\u001b[0;32m~/ArtificialInteligenceProject/src/preprocessing.py\u001b[0m in \u001b[0;36m__init__\u001b[0;34m(self, label_file_path, wav_file_path, save_region_dir)\u001b[0m\n\u001b[1;32m     13\u001b[0m         \u001b[0mself\u001b[0m\u001b[0;34m.\u001b[0m\u001b[0msave_region_dir\u001b[0m \u001b[0;34m=\u001b[0m \u001b[0msave_region_dir\u001b[0m\u001b[0;34m\u001b[0m\u001b[0;34m\u001b[0m\u001b[0m\n\u001b[1;32m     14\u001b[0m \u001b[0;34m\u001b[0m\u001b[0m\n\u001b[0;32m---> 15\u001b[0;31m         \u001b[0mjson_file_names\u001b[0m \u001b[0;34m=\u001b[0m \u001b[0mos\u001b[0m\u001b[0;34m.\u001b[0m\u001b[0mpath\u001b[0m\u001b[0;34m.\u001b[0m\u001b[0mlistdir\u001b[0m\u001b[0;34m(\u001b[0m\u001b[0mlabel_file_path\u001b[0m\u001b[0;34m)\u001b[0m\u001b[0;34m\u001b[0m\u001b[0;34m\u001b[0m\u001b[0m\n\u001b[0m\u001b[1;32m     16\u001b[0m         \u001b[0mjson_file_names\u001b[0m \u001b[0;34m=\u001b[0m \u001b[0;34m[\u001b[0m\u001b[0mj\u001b[0m \u001b[0;32mfor\u001b[0m \u001b[0mj\u001b[0m \u001b[0;32min\u001b[0m \u001b[0mjson_file_names\u001b[0m \u001b[0;32mif\u001b[0m \u001b[0mj\u001b[0m\u001b[0;34m.\u001b[0m\u001b[0mendswith\u001b[0m\u001b[0;34m(\u001b[0m\u001b[0;34m'.json'\u001b[0m\u001b[0;34m)\u001b[0m\u001b[0;34m]\u001b[0m\u001b[0;34m\u001b[0m\u001b[0;34m\u001b[0m\u001b[0m\n\u001b[1;32m     17\u001b[0m \u001b[0;34m\u001b[0m\u001b[0m\n",
      "\u001b[0;31mAttributeError\u001b[0m: module 'posixpath' has no attribute 'listdir'"
     ]
    }
   ],
   "source": [
    "pp = Preprocessor(label_file_path, wav_file_path, save_region_dir)"
   ]
  },
  {
   "cell_type": "code",
   "execution_count": 2,
   "metadata": {},
   "outputs": [],
   "source": [
    "import librosa"
   ]
  },
  {
   "cell_type": "code",
   "execution_count": 139,
   "metadata": {},
   "outputs": [],
   "source": [
    "data_label = '../dataset/jeju/jeju_label/DZES20000002.json'\n",
    "data = '../dataset/jeju/jeju_data_1/DZES20000002.wav'\n",
    "\n",
    "y, sr = librosa.load(data, sr=16000)"
   ]
  },
  {
   "cell_type": "code",
   "execution_count": 141,
   "metadata": {},
   "outputs": [],
   "source": [
    "import json\n",
    "with open(data_label, \"r\") as f:\n",
    "    json_s = json.load(f)\n",
    "durations = [(j['start'], j['end']) for j in json_s['utterance']]"
   ]
  },
  {
   "cell_type": "code",
   "execution_count": 142,
   "metadata": {},
   "outputs": [],
   "source": [
    "def split_audio(y, sr, durations):\n",
    "    chunks = [y[int(start*sr):int(end*sr)] for start, end in durations]\n",
    "    return chunks\n",
    "    "
   ]
  },
  {
   "cell_type": "code",
   "execution_count": 143,
   "metadata": {},
   "outputs": [],
   "source": [
    "chunks = split_audio(y, sr, durations)\n",
    "chunks = [chunk for chunk in chunks if len(chunk) > sr*3]"
   ]
  },
  {
   "cell_type": "code",
   "execution_count": 144,
   "metadata": {},
   "outputs": [
    {
     "name": "stdout",
     "output_type": "stream",
     "text": [
      "(59040,)\n",
      "(49882,)\n",
      "(73440,)\n",
      "(85600,)\n",
      "(70309,)\n",
      "(59040,)\n",
      "(60480,)\n",
      "(67526,)\n",
      "(61760,)\n",
      "(66560,)\n",
      "(62909,)\n",
      "(75200,)\n",
      "(57280,)\n",
      "(60480,)\n",
      "(48714,)\n",
      "(53856,)\n",
      "(51840,)\n",
      "(59115,)\n",
      "(109205,)\n",
      "(78916,)\n",
      "(61760,)\n",
      "(75398,)\n",
      "(106080,)\n",
      "(58720,)\n",
      "(92000,)\n",
      "(63360,)\n",
      "(66240,)\n",
      "(58720,)\n",
      "(51840,)\n",
      "(67360,)\n",
      "(95520,)\n",
      "(125440,)\n",
      "(121120,)\n",
      "(86400,)\n",
      "(63040,)\n",
      "(64000,)\n",
      "(65920,)\n",
      "(53366,)\n",
      "(90080,)\n",
      "(57440,)\n",
      "(105630,)\n",
      "(56800,)\n",
      "(80960,)\n",
      "(77782,)\n",
      "(52722,)\n",
      "(53632,)\n",
      "(99360,)\n",
      "(60160,)\n",
      "(56160,)\n",
      "(60480,)\n",
      "(91680,)\n",
      "(75840,)\n",
      "(50880,)\n",
      "(49280,)\n",
      "(51040,)\n",
      "(65920,)\n",
      "(65760,)\n",
      "(75680,)\n",
      "(82080,)\n",
      "(51840,)\n",
      "(73440,)\n",
      "(68640,)\n",
      "(58720,)\n",
      "(67840,)\n",
      "(77760,)\n",
      "(100640,)\n",
      "(52872,)\n",
      "(49760,)\n",
      "(58880,)\n",
      "(58720,)\n",
      "(96960,)\n",
      "(58880,)\n",
      "(75282,)\n",
      "(65872,)\n",
      "(52765,)\n",
      "(51680,)\n",
      "(68320,)\n",
      "(63520,)\n",
      "(70560,)\n",
      "(52160,)\n",
      "(70880,)\n",
      "(61760,)\n",
      "(69440,)\n",
      "(51520,)\n",
      "(58720,)\n",
      "(58400,)\n",
      "(82450,)\n",
      "(50080,)\n",
      "(76000,)\n",
      "(59195,)\n",
      "(55200,)\n",
      "(76392,)\n",
      "(56910,)\n",
      "(60160,)\n",
      "(48800,)\n",
      "(72640,)\n",
      "(78240,)\n",
      "(63360,)\n",
      "(53280,)\n",
      "(52960,)\n",
      "(78528,)\n",
      "(58352,)\n",
      "(51360,)\n",
      "(95040,)\n",
      "(52662,)\n",
      "(96151,)\n",
      "(56640,)\n",
      "(72000,)\n",
      "(56160,)\n",
      "(80960,)\n",
      "(64800,)\n",
      "(81120,)\n",
      "(76000,)\n",
      "(80474,)\n",
      "(70720,)\n",
      "(84000,)\n",
      "(82080,)\n",
      "(67041,)\n",
      "(51840,)\n",
      "(60480,)\n",
      "(61120,)\n",
      "(94080,)\n",
      "(63840,)\n",
      "(56160,)\n",
      "(72390,)\n",
      "(76800,)\n",
      "(55521,)\n",
      "(69120,)\n",
      "(63840,)\n",
      "(116960,)\n",
      "(79040,)\n",
      "(69404,)\n",
      "(74240,)\n",
      "(53600,)\n",
      "(53600,)\n",
      "(49600,)\n",
      "(57440,)\n",
      "(65028,)\n",
      "(54781,)\n",
      "(56160,)\n",
      "(51040,)\n",
      "(86400,)\n",
      "(73440,)\n",
      "(88409,)\n",
      "(82080,)\n",
      "(51680,)\n",
      "(74080,)\n",
      "(53761,)\n",
      "(90720,)\n",
      "(82534,)\n",
      "(59635,)\n",
      "(63040,)\n",
      "(64160,)\n",
      "(50560,)\n",
      "(99360,)\n",
      "(79520,)\n",
      "(51840,)\n",
      "(73440,)\n",
      "(72160,)\n",
      "(53352,)\n",
      "(63694,)\n",
      "(77118,)\n",
      "(62988,)\n",
      "(86875,)\n",
      "(82080,)\n",
      "(125280,)\n",
      "(57440,)\n",
      "(84160,)\n",
      "(67040,)\n",
      "(53954,)\n",
      "(59360,)\n",
      "(51185,)\n",
      "(67308,)\n",
      "(52338,)\n",
      "(82240,)\n",
      "(75840,)\n",
      "(70367,)\n",
      "(55713,)\n",
      "(104424,)\n",
      "(76300,)\n",
      "(48320,)\n",
      "(65113,)\n",
      "(62776,)\n",
      "(79681,)\n",
      "(76962,)\n",
      "(86400,)\n",
      "(69120,)\n",
      "(76096,)\n",
      "(53600,)\n",
      "(61120,)\n",
      "(50567,)\n",
      "(76800,)\n",
      "(92320,)\n",
      "(77760,)\n"
     ]
    }
   ],
   "source": [
    "for chunk in chunks:\n",
    "    print(chunk.shape)"
   ]
  },
  {
   "cell_type": "code",
   "execution_count": 145,
   "metadata": {},
   "outputs": [],
   "source": [
    "chunks = [librosa.util.pad_center(chunk, size=sr*5) if len(chunk) < sr*5 else chunk[:sr*5] for chunk in chunks]\n",
    "chunks = np.vstack(chunks)"
   ]
  },
  {
   "cell_type": "code",
   "execution_count": 17,
   "metadata": {},
   "outputs": [],
   "source": [
    "import numpy as np"
   ]
  },
  {
   "cell_type": "code",
   "execution_count": 53,
   "metadata": {},
   "outputs": [],
   "source": [
    "import soundfile as sf\n",
    "\n",
    "sf.write('./chunk1.wav', chunks[2], sr)"
   ]
  },
  {
   "cell_type": "code",
   "execution_count": 129,
   "metadata": {},
   "outputs": [
    {
     "data": {
      "text/plain": [
       "80000"
      ]
     },
     "execution_count": 129,
     "metadata": {},
     "output_type": "execute_result"
    }
   ],
   "source": [
    "len(chunks[2])"
   ]
  },
  {
   "cell_type": "code",
   "execution_count": 173,
   "metadata": {},
   "outputs": [
    {
     "name": "stderr",
     "output_type": "stream",
     "text": [
      "/tmp/ipykernel_4519/1505359003.py:1: FutureWarning: Pass y=[0. 0. 0. ... 0. 0. 0.], sr=16000 as keyword args. From version 0.10 passing these as positional arguments will result in an error\n",
      "  chroma = librosa.feature.chroma_stft(chunks[1], sr, win_length=400, n_fft=400, hop_length=160, norm=2)\n"
     ]
    }
   ],
   "source": [
    "chroma = librosa.feature.chroma_stft(chunks[1], sr, win_length=400, n_fft=400, hop_length=160, norm=2)"
   ]
  },
  {
   "cell_type": "code",
   "execution_count": 174,
   "metadata": {},
   "outputs": [
    {
     "data": {
      "text/plain": [
       "array([0.7481829 , 0.43532044, 0.07804302, 0.01481183, 0.01719354,\n",
       "       0.0804576 , 0.0613398 , 0.0425385 , 0.01103565, 0.0260612 ,\n",
       "       0.09826499, 0.47075495], dtype=float32)"
      ]
     },
     "execution_count": 174,
     "metadata": {},
     "output_type": "execute_result"
    }
   ],
   "source": [
    "chroma[:,150]"
   ]
  },
  {
   "cell_type": "code",
   "execution_count": 108,
   "metadata": {},
   "outputs": [
    {
     "data": {
      "text/plain": [
       "(12, 501)"
      ]
     },
     "execution_count": 108,
     "metadata": {},
     "output_type": "execute_result"
    }
   ],
   "source": [
    "chroma.shape"
   ]
  },
  {
   "cell_type": "code",
   "execution_count": 61,
   "metadata": {},
   "outputs": [],
   "source": [
    "%matplotlib inline\n",
    "import matplotlib.pyplot as plt"
   ]
  },
  {
   "cell_type": "code",
   "execution_count": 66,
   "metadata": {},
   "outputs": [
    {
     "data": {
      "text/plain": [
       "[<matplotlib.lines.Line2D at 0x7fb4f7280e20>]"
      ]
     },
     "execution_count": 66,
     "metadata": {},
     "output_type": "execute_result"
    },
    {
     "data": {
      "image/png": "[encoded data removed]",
      "text/plain": [
       "<Figure size 432x288 with 1 Axes>"
      ]
     },
     "metadata": {
      "needs_background": "light"
     },
     "output_type": "display_data"
    }
   ],
   "source": [
    "plt.plot(chunks[1])"
   ]
  },
  {
   "cell_type": "code",
   "execution_count": 79,
   "metadata": {},
   "outputs": [],
   "source": [
    "import librosa.display"
   ]
  },
  {
   "cell_type": "code",
   "execution_count": 175,
   "metadata": {},
   "outputs": [
    {
     "data": {
      "text/plain": [
       "<matplotlib.collections.QuadMesh at 0x7fb4ed0f23a0>"
      ]
     },
     "execution_count": 175,
     "metadata": {},
     "output_type": "execute_result"
    },
    {
     "data": {
      "image/png": "[encoded data removed]",
      "text/plain": [
       "<Figure size 432x288 with 1 Axes>"
      ]
     },
     "metadata": {
      "needs_background": "light"
     },
     "output_type": "display_data"
    }
   ],
   "source": [
    "librosa.display.specshow(chroma, x_axis='time', y_axis='chroma')"
   ]
  },
  {
   "cell_type": "code",
   "execution_count": null,
   "metadata": {},
   "outputs": [],
   "source": [
    "data1 = "
   ]
  }
 ],
 "metadata": {
  "interpreter": {
   "hash": "30295c5bec572e859485b1ffa5e89b8b3e2022ef6e3e739c1ac40f143a557caf"
  },
  "kernelspec": {
   "display_name": "Python 3.6.9 64-bit",
   "language": "python",
   "name": "python3"
  },
  "language_info": {
   "codemirror_mode": {
    "name": "ipython",
    "version": 3
   },
   "file_extension": ".py",
   "mimetype": "text/x-python",
   "name": "python",
   "nbconvert_exporter": "python",
   "pygments_lexer": "ipython3",
   "version": "3.9.12"
  },
  "orig_nbformat": 4
 },
 "nbformat": 4,
 "nbformat_minor": 2
}
