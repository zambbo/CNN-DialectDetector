{
 "cells": [
  {
   "cell_type": "code",
   "execution_count": 1,
   "metadata": {},
   "outputs": [],
   "source": [
    "import numpy as np"
   ]
  },
  {
   "cell_type": "code",
   "execution_count": 2,
   "metadata": {},
   "outputs": [],
   "source": [
    "test_matrix = np.array([[2,3,4,1,0],\\\n",
    "    [5,1,1,1,1],\n",
    "    [1,1,1,1,5],\n",
    "    [1,1,5,1,1],\n",
    "    [1,1,1,5,1]])\n",
    "# row = True col = Predicted"
   ]
  },
  {
   "cell_type": "code",
   "execution_count": 38,
   "metadata": {},
   "outputs": [],
   "source": [
    "def precision(matrix, index):\n",
    "    TP = matrix[index, index]\n",
    "    TPPFP = matrix[:,index].sum()\n",
    "    return TP / (TPPFP + 0.00001)"
   ]
  },
  {
   "cell_type": "code",
   "execution_count": 39,
   "metadata": {},
   "outputs": [],
   "source": [
    "def recall(matrix, index):\n",
    "    TP = matrix[index, index]\n",
    "    TPPFN = matrix[index, :].sum()\n",
    "    return TP / (TPPFN + 0.00001)"
   ]
  },
  {
   "cell_type": "code",
   "execution_count": 40,
   "metadata": {},
   "outputs": [],
   "source": [
    "def f1_score(matrix):\n",
    "    avg_precision = 0.0\n",
    "    avg_recall = 0.0\n",
    "    for i in range(5):\n",
    "        avg_precision += precision(matrix, i)\n",
    "        avg_recall += recall(matrix, i)\n",
    "    avg_precision /= 5\n",
    "    avg_recall /= 5\n",
    "    f1 = (2*avg_precision*avg_recall) / (avg_precision + avg_recall)\n",
    "    acc = 0.0\n",
    "    for i in range(5):\n",
    "        acc += matrix[i,i]\n",
    "    acc /= matrix.sum()\n",
    "    return acc, avg_precision, avg_recall, f1"
   ]
  },
  {
   "cell_type": "code",
   "execution_count": 41,
   "metadata": {},
   "outputs": [
    {
     "data": {
      "text/plain": [
       "(0.13043478260869565,\n",
       " 0.13246016681392042,\n",
       " 0.1288887501236065,\n",
       " 0.13065005619205747)"
      ]
     },
     "execution_count": 41,
     "metadata": {},
     "output_type": "execute_result"
    }
   ],
   "source": [
    "f1_score(test_matrix)"
   ]
  },
  {
   "cell_type": "code",
   "execution_count": 22,
   "metadata": {},
   "outputs": [],
   "source": [
    "def make_np_array(lst):\n",
    "    arr = np.zeros((5,5))\n",
    "    for i in range(5):\n",
    "        for j in range(5):\n",
    "            arr[i, j] = lst[i*5+j]\n",
    "    return arr"
   ]
  },
  {
   "cell_type": "code",
   "execution_count": 23,
   "metadata": {},
   "outputs": [],
   "source": [
    "final = make_np_array([443,0,0,6,4,0,497,0,2,7,0,0,517,0,1,4,3,0,568,5,11,7,1,5,478])"
   ]
  },
  {
   "cell_type": "code",
   "execution_count": 48,
   "metadata": {},
   "outputs": [
    {
     "data": {
      "text/plain": [
       "(0.9781164517389606, 0.9777751589885277, 0.9779418730769885, 0.97785850892703)"
      ]
     },
     "execution_count": 48,
     "metadata": {},
     "output_type": "execute_result"
    }
   ],
   "source": [
    "f1_score(final)"
   ]
  },
  {
   "cell_type": "code",
   "execution_count": 47,
   "metadata": {},
   "outputs": [
    {
     "data": {
      "text/plain": [
       "(0.9692367601246106,\n",
       " 0.9687538883847377,\n",
       " 0.9710171390427883,\n",
       " 0.9698841933766025)"
      ]
     },
     "execution_count": 47,
     "metadata": {},
     "output_type": "execute_result"
    }
   ],
   "source": [
    "multimodal_resnet = make_np_array([487,0,1,14,16,0,491,0,0,0,0,0,534,0,0,6,0,1,540,36,0,0,0,5,437])\n",
    "f1_score(multimodal_resnet)"
   ]
  },
  {
   "cell_type": "code",
   "execution_count": 33,
   "metadata": {},
   "outputs": [
    {
     "data": {
      "text/plain": [
       "(0.5044939429464634,\n",
       " 0.5111092636690271,\n",
       " 0.5000622777652292,\n",
       " 0.5055254269017823)"
      ]
     },
     "execution_count": 33,
     "metadata": {},
     "output_type": "execute_result"
    }
   ],
   "source": [
    "LSTM_chroma = make_np_array([138,65,45,168,70,38,277,40,97,26,36,31,366,71,61,45,95,46,291,106,29,33,43,123,219])\n",
    "f1_score(LSTM_chroma)"
   ]
  },
  {
   "cell_type": "code",
   "execution_count": 46,
   "metadata": {},
   "outputs": [
    {
     "data": {
      "text/plain": [
       "(0.968, 0.9666518674467632, 0.9676475578369554, 0.9671494563735329)"
      ]
     },
     "execution_count": 46,
     "metadata": {},
     "output_type": "execute_result"
    }
   ],
   "source": [
    "LSTM_MFCC = make_np_array([101,0,0,1,3,0,101,0,0,2,1,0,100,0,0,2,0,0,102,3,1,0,0,3,80])\n",
    "f1_score(LSTM_MFCC)"
   ]
  },
  {
   "cell_type": "code",
   "execution_count": 45,
   "metadata": {},
   "outputs": [
    {
     "data": {
      "text/plain": [
       "(0.8722157092614302,\n",
       " 0.8706950702227658,\n",
       " 0.8712338309885906,\n",
       " 0.8709643672890852)"
      ]
     },
     "execution_count": 45,
     "metadata": {},
     "output_type": "execute_result"
    }
   ],
   "source": [
    "LSTM_spectro = make_np_array([402,9,2,17,25,9,477,7,4,11,7,1,527,4,1,55,21,10,485,34,74,8,3,25,341])\n",
    "f1_score(LSTM_spectro)"
   ]
  },
  {
   "cell_type": "code",
   "execution_count": 44,
   "metadata": {},
   "outputs": [
    {
     "data": {
      "text/plain": [
       "(0.8314732142857143,\n",
       " 0.8429136741872012,\n",
       " 0.8233043885569877,\n",
       " 0.8329936430890345)"
      ]
     },
     "execution_count": 44,
     "metadata": {},
     "output_type": "execute_result"
    }
   ],
   "source": [
    "ResNet_chroma = make_np_array([506,2,0,56,24,3,446,1,25,20,5,5,507,22,21,42,5,2,510,28,29,10,4,149,266])\n",
    "f1_score(ResNet_chroma)"
   ]
  },
  {
   "cell_type": "code",
   "execution_count": 43,
   "metadata": {},
   "outputs": [
    {
     "data": {
      "text/plain": [
       "(0.3559984368894099, 0.2425594829647726, 0.3953290784671283, 0.300650686253648)"
      ]
     },
     "execution_count": 43,
     "metadata": {},
     "output_type": "execute_result"
    }
   ],
   "source": [
    "ResNet_MFCC = make_np_array([451,0,0,0,0,11,460,0,0,0,565,0,0,0,0,621,1,0,0,0,450,0,0,0,0])\n",
    "f1_score(ResNet_MFCC)"
   ]
  },
  {
   "cell_type": "code",
   "execution_count": 50,
   "metadata": {},
   "outputs": [
    {
     "data": {
      "text/plain": [
       "(0.610981308411215, 0.46300803761678233, 0.577014102227233, 0.5137624612289697)"
      ]
     },
     "execution_count": 50,
     "metadata": {},
     "output_type": "execute_result"
    }
   ],
   "source": [
    "Resnet_spec = make_np_array([510,0,5,3,0,491,0,0,0,0,0,0,534,0,0,58,0,0,525,0,436,0,2,4,0])\n",
    "f1_score(Resnet_spec)"
   ]
  },
  {
   "cell_type": "code",
   "execution_count": 51,
   "metadata": {},
   "outputs": [
    {
     "data": {
      "text/plain": [
       "(0.19754464285714285,\n",
       " 0.03950892842444595,\n",
       " 0.19999999623352174,\n",
       " 0.06598322419395325)"
      ]
     },
     "execution_count": 51,
     "metadata": {},
     "output_type": "execute_result"
    }
   ],
   "source": [
    "LeNet_chroma = make_np_array([0,0,586,0,0,0,0,477,0,0,0,0,531,0,0,0,0,614,0,0,0,0,480,0,0])\n",
    "f1_score(LeNet_chroma)"
   ]
  },
  {
   "cell_type": "code",
   "execution_count": 52,
   "metadata": {},
   "outputs": [
    {
     "data": {
      "text/plain": [
       "(0.182, 0.036399999272000015, 0.19999997802198044, 0.06159052245040533)"
      ]
     },
     "execution_count": 52,
     "metadata": {},
     "output_type": "execute_result"
    }
   ],
   "source": [
    "LeNet_MFCC = make_np_array([0,0,0,0,102,0,0,0,0,98,0,0,0,0,93,0,0,0,0,116,0,0,0,0,91])\n",
    "f1_score(LeNet_MFCC)"
   ]
  },
  {
   "cell_type": "code",
   "execution_count": 53,
   "metadata": {},
   "outputs": [
    {
     "data": {
      "text/plain": [
       "(0.21101992966002345,\n",
       " 0.04220398576708094,\n",
       " 0.19999999629629636,\n",
       " 0.06969990274475699)"
      ]
     },
     "execution_count": 53,
     "metadata": {},
     "output_type": "execute_result"
    }
   ],
   "source": [
    "LeNet_spectro = make_np_array([0,0,455,0,0,0,0,508,0,0,0,0,540,0,0,0,0,605,0,0,0,0,451,0,0])\n",
    "f1_score(LeNet_spectro)"
   ]
  },
  {
   "cell_type": "code",
   "execution_count": null,
   "metadata": {},
   "outputs": [],
   "source": []
  }
 ],
 "metadata": {
  "interpreter": {
   "hash": "31f2aee4e71d21fbe5cf8b01ff0e069b9275f58929596ceb00d14d90e3e16cd6"
  },
  "kernelspec": {
   "display_name": "Python 3.9.12 64-bit",
   "language": "python",
   "name": "python3"
  },
  "language_info": {
   "codemirror_mode": {
    "name": "ipython",
    "version": 3
   },
   "file_extension": ".py",
   "mimetype": "text/x-python",
   "name": "python",
   "nbconvert_exporter": "python",
   "pygments_lexer": "ipython3",
   "version": "3.9.12"
  },
  "orig_nbformat": 4
 },
 "nbformat": 4,
 "nbformat_minor": 2
}
